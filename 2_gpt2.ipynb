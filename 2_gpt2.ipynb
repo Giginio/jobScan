{
 "cells": [
  {
   "cell_type": "code",
   "execution_count": 1,
   "metadata": {},
   "outputs": [],
   "source": [
    "import pandas as pd\n",
    "import numpy as np\n",
    "\n",
    "## using model GPT2\n",
    "from transformers import GPT2Tokenizer, GPT2LMHeadModel"
   ]
  },
  {
   "cell_type": "code",
   "execution_count": 2,
   "metadata": {},
   "outputs": [],
   "source": [
    "# Load the DataFrame from the pickle file\n",
    "df = pd.read_pickle(\"job_data.pkl\")"
   ]
  },
  {
   "cell_type": "code",
   "execution_count": 4,
   "metadata": {},
   "outputs": [
    {
     "name": "stderr",
     "output_type": "stream",
     "text": [
      "The attention mask and the pad token id were not set. As a consequence, you may observe unexpected behavior. Please pass your input's `attention_mask` to obtain reliable results.\n",
      "Setting `pad_token_id` to `eos_token_id`:50256 for open-end generation.\n"
     ]
    },
    {
     "name": "stdout",
     "output_type": "stream",
     "text": [
      "Summarize this job listing:Für die Raiffeisenbank Region Burgdorf, eine erfolgreiche und lokal ausgerichtete Bank, suchen wir eine Persönlichkeit als Privatkundenberater/in.Privatkundenberater/inWas erwartet dich?Erkennen und Ausschöpfen des Kundenpotenzials durch aktive und kontinuierliche Betreuung des persönlichen KundenportefeuillesGewährleistung einer kompetenten Beratung in Finanzierungsfragen (Wohnen) sowie einer standardisierten Beratung in den Themen Anlegen und VorsorgenErarbeitung von bedürfnisgerechten Lösungen unter Einbezug der individuellen Bedürfnisse, Wünsche, Ziele und Lebenssituation der Kunden sowie im Rahmen des segmentspezifischen ProduktangebotsAusbau des bestehenden Kundenstamms durch gezielte Akquisition von NeukundenMitarbeit bei zielgruppenspezifischen Marktbearbeitungsmassnahmen wie Kontaktkampagnen, Anlässen und repräsentativen AufgabenWas bringst du mit?Abgeschlossene Bankausbildung oder vergleichbare Ausbildunghöhere Weiterbildung wie Bachelor, Finanzplaner oder ähnlichesErfahrung im FinanzdienstleistungssektorHast du Fragen?Für inhaltliche Fragen zur Stelle:Marc Guggenbühler, Bahnhofstrasse 20, 3400 Burgdorf, E-Mail schreiben, 034 420 99 91Für Fragen zum Bewerbungsprozess:Marc Guggenbühler, Bahnhofstrasse 20, 3400 Burgdorf, E-Mail schreiben, 034 420 99 91Über unsWir sind eine genossenschaftliche Bank mit über 10'000 Mitarbeitenden. Wir machen den Weg frei. Miteinander. Füreinander.Entdecke unsere einzigartige Kultur. Wir leben unternehmerisches Engagement und Fairness. Wir vereinen persönliche Lebensplanung und berufliche Weiterentwicklung. Entscheide dich für einen Arbeitgeber mit modernen Anstellungsbedingungen, grosser Aufgabenvielfalt und hohem Gestaltungsspielraum.\n",
      "\n",
      "\n",
      "Arbeitsort\n",
      "\n",
      "Bahnhofstrasse 20\n",
      "3400 Burgdorf\n",
      "\n",
      "\n",
      " \n",
      " Stellenanzeige melden\n",
      "\n",
      "\n",
      "Über die Firma\n",
      "\n",
      "\n",
      "\n",
      "\n",
      "\n",
      "\n",
      "Raiffeisenbank Region Burgdorf\n",
      "\n",
      "\n",
      "Burgdorf\n",
      "\n",
      "\n",
      "\n",
      "\n",
      "\n",
      "\n",
      "Firmenprofil mit Bewertungen und allen offenen Stellen\n",
      "\n",
      "\n",
      "\n",
      "\n",
      "\n",
      "\n",
      "\n",
      "\n",
      "\n",
      "\n",
      "\n",
      "\n",
      "Bei neuen Stellen benachrichtigt werden\n",
      "\n",
      " \n",
      "\n",
      "\n",
      "\n",
      "\n",
      "\n",
      "\n",
      "\n",
      "\n",
      "\n",
      "\n",
      "\n",
      "\n",
      "\n",
      "\n",
      "\n",
      "\n",
      "\n",
      "\n",
      "\n",
      "\n",
      "Tipps für deine erfolgreiche Bewerbung als Privatkundenberater\n",
      "Entdecke jetzt unsere Tipps für deine erfolgreiche Bewerbung als PrivatkundenberaterEntdecke jetzt unsere Tipps für deine erfolgreiche Bewerbung als PrivatkundenberaterEntdecke jetzt unsere Tipps für deine erfolgreiche Bewerbung als PrivatkundenberaterEntdecke jetzt unsere Tipps für deine erfolgreiche Bewerbung als PrivatkundenberaterEntdecke jetzt unsere Tipps für deine erfolgreiche Bewerbung als PrivatkundenberaterEntdecke jetzt unsere Tipps für deine erfolgreiche Bewerbung als PrivatkundenberaterEntdecke jetzt unsere Tipps für deine erfolgreiche B\n"
     ]
    }
   ],
   "source": [
    "\n",
    "tokenizer = GPT2Tokenizer.from_pretrained(\"gpt2\")\n",
    "model = GPT2LMHeadModel.from_pretrained(\"gpt2\")\n",
    "\n",
    "inputs = tokenizer(\"Summarize this job listing:\" + df['Job Type'].iloc[0], return_tensors=\"pt\")\n",
    "outputs = model.generate(inputs[\"input_ids\"], max_length=1000)\n",
    "print(tokenizer.decode(outputs[0], skip_special_tokens=True))\n",
    "\n",
    "\n",
    "#this model is bad for using to sumarize stuff will need to use another model with more parameters using the GPU on my pc"
   ]
  },
  {
   "cell_type": "code",
   "execution_count": 10,
   "metadata": {},
   "outputs": [
    {
     "data": {
      "text/plain": [
       "\"Summarize this job listing:Für die Raiffeisenbank Region Burgdorf, eine erfolgreiche und lokal ausgerichtete Bank, suchen wir eine Persönlichkeit als Privatkundenberater/in.Privatkundenberater/inWas erwartet dich?Erkennen und Ausschöpfen des Kundenpotenzials durch aktive und kontinuierliche Betreuung des persönlichen KundenportefeuillesGewährleistung einer kompetenten Beratung in Finanzierungsfragen (Wohnen) sowie einer standardisierten Beratung in den Themen Anlegen und VorsorgenErarbeitung von bedürfnisgerechten Lösungen unter Einbezug der individuellen Bedürfnisse, Wünsche, Ziele und Lebenssituation der Kunden sowie im Rahmen des segmentspezifischen ProduktangebotsAusbau des bestehenden Kundenstamms durch gezielte Akquisition von NeukundenMitarbeit bei zielgruppenspezifischen Marktbearbeitungsmassnahmen wie Kontaktkampagnen, Anlässen und repräsentativen AufgabenWas bringst du mit?Abgeschlossene Bankausbildung oder vergleichbare Ausbildunghöhere Weiterbildung wie Bachelor, Finanzplaner oder ähnlichesErfahrung im FinanzdienstleistungssektorHast du Fragen?Für inhaltliche Fragen zur Stelle:Marc Guggenbühler, Bahnhofstrasse 20, 3400 Burgdorf, E-Mail schreiben, 034 420 99 91Für Fragen zum Bewerbungsprozess:Marc Guggenbühler, Bahnhofstrasse 20, 3400 Burgdorf, E-Mail schreiben, 034 420 99 91Über unsWir sind eine genossenschaftliche Bank mit über 10'000 Mitarbeitenden. Wir machen den Weg frei. Miteinander. Füreinander.Entdecke unsere einzigartige Kultur. Wir leben unternehmerisches Engagement und Fairness. Wir vereinen persönliche Lebensplanung und berufliche Weiterentwicklung. Entscheide dich für einen Arbeitgeber mit modernen Anstellungsbedingungen, grosser Aufgabenvielfalt und hohem Gestaltungsspielraum.\\n\\n\\nArbeitsort\\n\\nBahnhofstrasse 20\\n3400\\xa0Burgdorf\\n\\n\\n \\n\\xa0Stellenanzeige melden\\n\\n\\nÜber die Firma\\n\\n\\n\\n\\n\\n\\nRaiffeisenbank Region Burgdorf\\n\\n\\nBurgdorf\\n\\n\\n\\n\\n\\n\\nFirmenprofil mit Bewertungen und allen offenen Stellen\\n\\n\\n\\n\\n\\n\\n\\n\\n\\n\\n\\n\\nBei neuen Stellen benachrichtigt werden\\n\\n \\n\\n\\n\\n\\n\\n\\n\\n\\n\\n\\n\\n\\n\\n\\n\\n\\n\\n\\n\\n\\nTipps für deine erfolgreiche Bewerbung als Privatkundenberater\\nEntdecke jetzt unsere Tipps für deine erfolgreiche Bewerbung als PrivatkundenberaterEntdecke jetzt unsere Tipps für deine erfolgreiche Bewerbung als PrivatkundenberaterEntdecke jetzt unsere Tipps für deine erfolgreiche Bewerbung als PrivatkundenberaterEntdecke jetzt unsere Tipps für deine erfolgreiche Bewerbung als PrivatkundenberaterEntdecke jetzt unsere Tipps für deine erfolgreiche Bewerbung als PrivatkundenberaterEntdecke jetzt unsere Tipps für deine erfolgreiche Bewerbung als PrivatkundenberaterEntdecke jetzt unsere Tipps für deine erfolgreiche B\""
      ]
     },
     "execution_count": 10,
     "metadata": {},
     "output_type": "execute_result"
    }
   ],
   "source": [
    "tokenizer.decode(outputs[0])"
   ]
  },
  {
   "cell_type": "code",
   "execution_count": null,
   "metadata": {},
   "outputs": [],
   "source": []
  }
 ],
 "metadata": {
  "kernelspec": {
   "display_name": "mscenv",
   "language": "python",
   "name": "python3"
  },
  "language_info": {
   "codemirror_mode": {
    "name": "ipython",
    "version": 3
   },
   "file_extension": ".py",
   "mimetype": "text/x-python",
   "name": "python",
   "nbconvert_exporter": "python",
   "pygments_lexer": "ipython3",
   "version": "3.11.5"
  }
 },
 "nbformat": 4,
 "nbformat_minor": 2
}
